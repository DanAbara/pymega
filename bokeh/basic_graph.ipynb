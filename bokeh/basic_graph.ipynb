{
 "cells": [
  {
   "cell_type": "markdown",
   "id": "db1c4823",
   "metadata": {},
   "source": [
    "## Making a Basic Line graph in Bokeh"
   ]
  },
  {
   "cell_type": "code",
   "execution_count": 3,
   "id": "86a36084",
   "metadata": {},
   "outputs": [],
   "source": [
    "import pandas as pd\n",
    "from bokeh.plotting import figure\n",
    "from bokeh.io import output_file, show\n",
    "\n",
    "# Load data from csv using pandas\n",
    "df=pd.read_csv(\"data.csv\")\n",
    "x=df[\"x\"]\n",
    "y=df[\"y\"]\n",
    "\n",
    "# specify the output file\n",
    "output_file(\"line.html\")\n",
    "\n",
    "# create figure object\n",
    "fig1=figure()\n",
    "\n",
    "# create line plot\n",
    "fig1.circle(x,y)\n",
    "show(fig1)\n"
   ]
  },
  {
   "cell_type": "markdown",
   "id": "076bde01",
   "metadata": {},
   "source": [
    "#### Plotting Education Data"
   ]
  },
  {
   "cell_type": "code",
   "execution_count": 5,
   "id": "889d15ee",
   "metadata": {},
   "outputs": [],
   "source": [
    "edu_df=pd.read_csv(\"bachelors.csv\")\n",
    "\n",
    "# create line plot from year and engineering columns\n",
    "fig2=figure(plot_width=500,plot_height=250)\n",
    "fig2.line(edu_df[\"Year\"],edu_df[\"Engineering\"])\n",
    "fig2.xaxis.axis_label=\"Year\"\n",
    "fig2.yaxis.axis_label=\"No in Engineering\"\n",
    "fig2.title.text=\"Data for Women with Bachelors\"\n",
    "fig2.yaxis.minor_tick_line_color=None\n",
    "\n",
    "output_file(\"bachelors.html\")\n",
    "show(fig2)\n"
   ]
  },
  {
   "cell_type": "markdown",
   "id": "09c7e4e5",
   "metadata": {},
   "source": [
    "#### Plotting Weather Data"
   ]
  },
  {
   "cell_type": "code",
   "execution_count": 6,
   "id": "ae85faaf",
   "metadata": {},
   "outputs": [],
   "source": [
    "edu_w=pd.read_excel(\"verlegenhuken.xlsx\",engine=\"openpyxl\")\n",
    "\n",
    "fig3=figure(plot_width=1000,plot_height=600)\n",
    "fig3.scatter(edu_w[\"Temperature\"]/10,edu_w[\"Pressure\"]/10)\n",
    "fig3.xaxis.axis_label=\"Temperature (\\u2103)\" \n",
    "fig3.yaxis.axis_label=\"Pressure (hPa)\"\n",
    "fig3.title.text=\"Temperature and Air pressure\"\n",
    "fig3.axis.minor_tick_line_color=None\n",
    "fig3.axis.axis_line_width=2\n",
    "fig3.axis.axis_label_text_font_style=\"bold\"\n",
    "fig3.axis.major_label_text_font_style=\"bold\"\n",
    "\n",
    "output_file(\"weather.html\")\n",
    "show(fig3)"
   ]
  },
  {
   "cell_type": "markdown",
   "id": "2d2b56e4",
   "metadata": {},
   "source": [
    "## Plotting Time Series data"
   ]
  },
  {
   "cell_type": "code",
   "execution_count": 7,
   "id": "721a3d0c",
   "metadata": {},
   "outputs": [],
   "source": [
    "ts_df=pd.read_csv(\"adbe.csv\",parse_dates=[\"Date\"])\n",
    "\n",
    "fig4=figure(plot_width=1000,plot_height=600,x_axis_type=\"datetime\")\n",
    "fig4.line(ts_df[\"Date\"],ts_df[\"Close\"],line_width=1.5,color=\"red\")\n",
    "\n",
    "output_file(\"Timeseries.html\")\n",
    "show(fig4)"
   ]
  },
  {
   "cell_type": "code",
   "execution_count": null,
   "id": "06535c3d",
   "metadata": {},
   "outputs": [],
   "source": []
  }
 ],
 "metadata": {
  "kernelspec": {
   "display_name": "Python 3",
   "language": "python",
   "name": "python3"
  },
  "language_info": {
   "codemirror_mode": {
    "name": "ipython",
    "version": 3
   },
   "file_extension": ".py",
   "mimetype": "text/x-python",
   "name": "python",
   "nbconvert_exporter": "python",
   "pygments_lexer": "ipython3",
   "version": "3.9.5"
  }
 },
 "nbformat": 4,
 "nbformat_minor": 5
}
