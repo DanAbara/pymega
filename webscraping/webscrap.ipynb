{
 "cells": [
  {
   "cell_type": "code",
   "execution_count": 1,
   "id": "a10e99c4",
   "metadata": {},
   "outputs": [],
   "source": [
    "import requests\n",
    "from bs4 import BeautifulSoup"
   ]
  },
  {
   "cell_type": "code",
   "execution_count": 2,
   "id": "d1e9228b",
   "metadata": {},
   "outputs": [
    {
     "data": {
      "text/plain": [
       "bytes"
      ]
     },
     "execution_count": 2,
     "metadata": {},
     "output_type": "execute_result"
    }
   ],
   "source": [
    "headers = {\n",
    "    'User-Agent': 'Mozilla/5.0 (Macintosh; Intel Mac OS X 10.12; rv:55.0) Gecko/20100101 Firefox/55.0',\n",
    "}\n",
    "r=requests.get(\"http://pythonhow.com/example.html\",headers=headers)\n",
    "c=r.content\n",
    "type(c)"
   ]
  },
  {
   "cell_type": "code",
   "execution_count": 3,
   "id": "bd91ed18",
   "metadata": {},
   "outputs": [
    {
     "data": {
      "text/plain": [
       "[<div class=\"cities\">\n",
       " <h2>London</h2>\n",
       " <p>London is the capital of England and it's been a British settlement since 2000 years ago. </p>\n",
       " </div>,\n",
       " <div class=\"cities\">\n",
       " <h2>Paris</h2>\n",
       " <p>Paris is the capital city of France. It was declared capital since 508.</p>\n",
       " </div>,\n",
       " <div class=\"cities\">\n",
       " <h2>Tokyo</h2>\n",
       " <p>Tokyo is the capital of Japan and one of the most populated cities in the world.</p>\n",
       " </div>]"
      ]
     },
     "execution_count": 3,
     "metadata": {},
     "output_type": "execute_result"
    }
   ],
   "source": [
    "soup=BeautifulSoup(c,\"html.parser\")\n",
    "all=soup.find_all(\"div\",{\"class\":\"cities\"})\n",
    "all"
   ]
  },
  {
   "cell_type": "code",
   "execution_count": 6,
   "id": "facadf66",
   "metadata": {},
   "outputs": [
    {
     "data": {
      "text/plain": [
       "<h2>London</h2>"
      ]
     },
     "execution_count": 6,
     "metadata": {},
     "output_type": "execute_result"
    }
   ],
   "source": [
    "all[0].find_all(\"h2\")[0]"
   ]
  },
  {
   "cell_type": "code",
   "execution_count": 7,
   "id": "df14c233",
   "metadata": {},
   "outputs": [
    {
     "name": "stdout",
     "output_type": "stream",
     "text": [
      "London is the capital of England and it's been a British settlement since 2000 years ago. \n",
      "Paris is the capital city of France. It was declared capital since 508.\n",
      "Tokyo is the capital of Japan and one of the most populated cities in the world.\n"
     ]
    }
   ],
   "source": [
    "for item in all:\n",
    "    print(item.find_all(\"p\")[0].text)\n",
    "    "
   ]
  },
  {
   "cell_type": "code",
   "execution_count": null,
   "id": "54fab9d1",
   "metadata": {},
   "outputs": [],
   "source": []
  }
 ],
 "metadata": {
  "kernelspec": {
   "display_name": "Python 3",
   "language": "python",
   "name": "python3"
  },
  "language_info": {
   "codemirror_mode": {
    "name": "ipython",
    "version": 3
   },
   "file_extension": ".py",
   "mimetype": "text/x-python",
   "name": "python",
   "nbconvert_exporter": "python",
   "pygments_lexer": "ipython3",
   "version": "3.8.2"
  }
 },
 "nbformat": 4,
 "nbformat_minor": 5
}
