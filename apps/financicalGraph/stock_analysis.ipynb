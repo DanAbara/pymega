{
 "cells": [
  {
   "cell_type": "code",
   "execution_count": 25,
   "id": "188ad55d",
   "metadata": {},
   "outputs": [
    {
     "ename": "IndexError",
     "evalue": "list index out of range",
     "output_type": "error",
     "traceback": [
      "\u001b[1;31m---------------------------------------------------------------------------\u001b[0m",
      "\u001b[1;31mIndexError\u001b[0m                                Traceback (most recent call last)",
      "\u001b[1;32m<ipython-input-25-ae8e1218a25a>\u001b[0m in \u001b[0;36m<module>\u001b[1;34m\u001b[0m\n\u001b[0;32m     54\u001b[0m \u001b[1;31m# Extracting the js and css links\u001b[0m\u001b[1;33m\u001b[0m\u001b[1;33m\u001b[0m\u001b[1;33m\u001b[0m\u001b[0m\n\u001b[0;32m     55\u001b[0m \u001b[0mcdn_js\u001b[0m\u001b[1;33m=\u001b[0m\u001b[0mCDN\u001b[0m\u001b[1;33m.\u001b[0m\u001b[0mjs_files\u001b[0m\u001b[1;33m[\u001b[0m\u001b[1;36m0\u001b[0m\u001b[1;33m]\u001b[0m\u001b[1;33m\u001b[0m\u001b[1;33m\u001b[0m\u001b[0m\n\u001b[1;32m---> 56\u001b[1;33m \u001b[0mcdn_css\u001b[0m\u001b[1;33m=\u001b[0m\u001b[0mCDN\u001b[0m\u001b[1;33m.\u001b[0m\u001b[0mcss_files\u001b[0m\u001b[1;33m[\u001b[0m\u001b[1;36m0\u001b[0m\u001b[1;33m]\u001b[0m\u001b[1;33m\u001b[0m\u001b[1;33m\u001b[0m\u001b[0m\n\u001b[0m",
      "\u001b[1;31mIndexError\u001b[0m: list index out of range"
     ]
    }
   ],
   "source": [
    "from pandas_datareader import data\n",
    "import datetime\n",
    "from bokeh.plotting import figure, show, output_file\n",
    "from bokeh.embed import components\n",
    "from bokeh.resources import CDN\n",
    "\n",
    "# read stock data using pandas and yahoo data source\n",
    "dataStart=datetime.datetime(2015,11,1)\n",
    "dataEnd=datetime.datetime(2016,3,10)\n",
    "df=data.DataReader(name=\"GOOG\",data_source=\"yahoo\",start=dataStart, end=dataEnd)\n",
    "\n",
    "# function to populate new column with buy or sell depending on whether close price > open price or vice versa\n",
    "def inc_dec(o,c):\n",
    "    if c > o:\n",
    "        value=\"Buy\"\n",
    "    elif c < o:\n",
    "        value=\"Sell\"\n",
    "    else:\n",
    "        value=\"Equal\"\n",
    "    \n",
    "    return value\n",
    "    \n",
    "        \n",
    "df[\"Status\"]=[inc_dec(o,c) for o,c in zip(df[\"Open\"],df[\"Close\"])]\n",
    "\n",
    "# compute middle value to be used as y co-ordinate in rectangle glyph. This is the sum of the open and close divided by 2.\n",
    "df[\"Middle\"]=(df[\"Close\"]+df[\"Open\"])/2\n",
    "\n",
    "# compute the height of the rectangle which is the absolute differenc between the close and open prices\n",
    "df[\"Height\"]=abs(df[\"Close\"]-df[\"Open\"])\n",
    "\n",
    "p=figure(width=1000, height=350, x_axis_type=\"datetime\",title=\"Apple Stock\",sizing_mode=\"scale_both\")\n",
    "p.grid.grid_line_alpha=0.2\n",
    "\n",
    "hours_12=12*60*60*1000 #12 hours in milliseconds\n",
    "\n",
    "p.segment(x0=df.index,y0=df[\"High\"],x1=df.index,y1=df[\"Low\"],color=\"black\")\n",
    "\n",
    "# for buy candles - close > open\n",
    "p.rect(x=df.index[df[\"Status\"]==\"Buy\"], y=df.Middle[df[\"Status\"]==\"Buy\"], \n",
    "       width=hours_12, height=df.Height[df[\"Status\"]==\"Buy\"],fill_color=\"#66ffb3\",line_color=\"black\")\n",
    "\n",
    "# for sell candles - close < open\n",
    "p.rect(x=df.index[df[\"Status\"]==\"Sell\"], y=df.Middle[df[\"Status\"]==\"Sell\"], \n",
    "       width=hours_12, height=df.Height[df[\"Status\"]==\"Sell\"],fill_color=\"#ff3333\",line_color=\"black\")\n",
    "\n",
    "output_file(\"applestockdata.html\")\n",
    "show(p)\n",
    "\n",
    "# Extracting javascript and html components for embedding in flask\n",
    "len(components(p)) # normally tuple type with 2 elements, one is the js and the other is the html\n",
    "js1,div1=components(p)\n",
    "\n",
    "# Extracting the js and css links\n",
    "cdn_js=CDN.js_files[0]\n",
    "#cdn_css=CDN.css_files[0]\n"
   ]
  },
  {
   "cell_type": "code",
   "execution_count": 26,
   "id": "fed0c3f6",
   "metadata": {},
   "outputs": [
    {
     "data": {
      "text/plain": [
       "'https://cdn.bokeh.org/bokeh/release/bokeh-2.3.2.min.js'"
      ]
     },
     "execution_count": 26,
     "metadata": {},
     "output_type": "execute_result"
    }
   ],
   "source": [
    "cdn_js"
   ]
  },
  {
   "cell_type": "code",
   "execution_count": 27,
   "id": "42f4dfbe",
   "metadata": {},
   "outputs": [
    {
     "data": {
      "text/plain": [
       "[]"
      ]
     },
     "execution_count": 27,
     "metadata": {},
     "output_type": "execute_result"
    }
   ],
   "source": [
    "cdn_css"
   ]
  },
  {
   "cell_type": "code",
   "execution_count": null,
   "id": "924527fd",
   "metadata": {},
   "outputs": [],
   "source": []
  }
 ],
 "metadata": {
  "kernelspec": {
   "display_name": "Python 3",
   "language": "python",
   "name": "python3"
  },
  "language_info": {
   "codemirror_mode": {
    "name": "ipython",
    "version": 3
   },
   "file_extension": ".py",
   "mimetype": "text/x-python",
   "name": "python",
   "nbconvert_exporter": "python",
   "pygments_lexer": "ipython3",
   "version": "3.9.5"
  }
 },
 "nbformat": 4,
 "nbformat_minor": 5
}
